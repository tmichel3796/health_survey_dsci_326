{
 "cells": [
  {
   "cell_type": "code",
   "execution_count": 1,
   "id": "35ba4434-6f56-4008-b388-dbb9a1d2be6a",
   "metadata": {},
   "outputs": [],
   "source": [
    "import polars as pl\n",
    "import os"
   ]
  },
  {
   "cell_type": "markdown",
   "id": "60887d35-6168-4b46-b1d8-077856f351f4",
   "metadata": {},
   "source": [
    "# Why use relative addresses?\n",
    "\n",
    "In this notebook, we will illustrate \n",
    "\n",
    "1. That relative addresses for loading data files works, but\n",
    "2. Using absolute addresses for loading data files *will not*."
   ]
  },
  {
   "cell_type": "markdown",
   "id": "9e71dd7c-a5df-49da-af06-279adb78ab7a",
   "metadata": {},
   "source": [
    "## Problem 1 - Load the `lat_long_example.csv` file using a relative address.\n",
    "\n",
    "**Tasks.**\n",
    "1. Open a terminal, start `nu`, and navigate to the root menu of your first/primary data repository,\n",
    "2. Use `ls **/*` to get the relative address of `lat_long_example.csv`, and\n",
    "3. Use `polars` to load and inspect these data using this relative path."
   ]
  },
  {
   "cell_type": "code",
   "execution_count": 13,
   "id": "449783a9-db7e-4d92-b45a-2ba0088916bd",
   "metadata": {},
   "outputs": [],
   "source": [
    "relative_path = \"./data/lat_long_examples.csv\""
   ]
  },
  {
   "cell_type": "code",
   "execution_count": 14,
   "id": "79d2bdb3-4125-4027-9110-387b75cbfe6d",
   "metadata": {},
   "outputs": [
    {
     "name": "stdout",
     "output_type": "stream",
     "text": [
      "/mnt/c/users/xu6189ne/OneDrive - Minnesota State/Desktop/my_repos/health_survey_dsci_326\n"
     ]
    },
    {
     "data": {
      "text/html": [
       "<div><style>\n",
       ".dataframe > thead > tr,\n",
       ".dataframe > tbody > tr {\n",
       "  text-align: right;\n",
       "  white-space: pre-wrap;\n",
       "}\n",
       "</style>\n",
       "<small>shape: (2, 7)</small><table border=\"1\" class=\"dataframe\"><thead><tr><th>City 1</th><th>Lat 1</th><th>Long 1</th><th>City 2</th><th>Lat 2</th><th>Long 2</th><th>Distance from Web (km)</th></tr><tr><td>str</td><td>f64</td><td>f64</td><td>str</td><td>f64</td><td>f64</td><td>f64</td></tr></thead><tbody><tr><td>&quot;Winona, MN&quot;</td><td>44.050556</td><td>-91.66833</td><td>&quot;Ames, IA&quot;</td><td>42.018056</td><td>-93.62</td><td>276.48</td></tr><tr><td>&quot;Glagow, Scotland, UK&quot;</td><td>55.861111</td><td>-4.25</td><td>&quot;Ames, IA&quot;</td><td>42.018056</td><td>-93.62</td><td>6237.63</td></tr></tbody></table></div>"
      ],
      "text/plain": [
       "shape: (2, 7)\n",
       "┌─────────────────────┬───────────┬───────────┬──────────┬───────────┬────────┬────────────────────┐\n",
       "│ City 1              ┆ Lat 1     ┆ Long 1    ┆ City 2   ┆ Lat 2     ┆ Long 2 ┆ Distance from Web  │\n",
       "│ ---                 ┆ ---       ┆ ---       ┆ ---      ┆ ---       ┆ ---    ┆ (km)               │\n",
       "│ str                 ┆ f64       ┆ f64       ┆ str      ┆ f64       ┆ f64    ┆ ---                │\n",
       "│                     ┆           ┆           ┆          ┆           ┆        ┆ f64                │\n",
       "╞═════════════════════╪═══════════╪═══════════╪══════════╪═══════════╪════════╪════════════════════╡\n",
       "│ Winona, MN          ┆ 44.050556 ┆ -91.66833 ┆ Ames, IA ┆ 42.018056 ┆ -93.62 ┆ 276.48             │\n",
       "│ Glagow, Scotland,   ┆ 55.861111 ┆ -4.25     ┆ Ames, IA ┆ 42.018056 ┆ -93.62 ┆ 6237.63            │\n",
       "│ UK                  ┆           ┆           ┆          ┆           ┆        ┆                    │\n",
       "└─────────────────────┴───────────┴───────────┴──────────┴───────────┴────────┴────────────────────┘"
      ]
     },
     "execution_count": 14,
     "metadata": {},
     "output_type": "execute_result"
    }
   ],
   "source": [
    "print(os.getcwd())\n",
    "(lat_lng_example :=\n",
    " pl.read_csv(relative_path)\n",
    ")"
   ]
  },
  {
   "cell_type": "markdown",
   "id": "a173049f-b638-426f-adb3-0a9a13251ccb",
   "metadata": {},
   "source": [
    "## Problem 2 - Load the `lat_long_example.csv` file using a absolute address.\n",
    "\n",
    "**Tasks.**\n",
    "1. Open a terminal, start `nu`, and navigate to the root menu of *one of your first/primary data repository,\n",
    "2. Use `glob **/*` to get the absolute address of `lat_long_example.csv`, and\n",
    "3. Use `polars` to load and inspect these data."
   ]
  },
  {
   "cell_type": "code",
   "execution_count": 24,
   "id": "68846b35-bf00-43ee-8de9-893a70a2c389",
   "metadata": {},
   "outputs": [],
   "source": [
    "absolute_path = \"/mnt/c/Users/xu6189ne/OneDrive - Minnesota State/Desktop/my_repos/health_survey_dsci_326/data/lat_long_examples.csv\"\n",
    "\n",
    "#C:\\Users\\xu6189ne\\OneDrive - Minnesota State\\Desktop\\my_repos\\health_survey_dsci_326\\data"
   ]
  },
  {
   "cell_type": "code",
   "execution_count": 25,
   "id": "92fc5bf7-f898-4ac6-934a-c5fc8e23d365",
   "metadata": {},
   "outputs": [
    {
     "data": {
      "text/html": [
       "<div><style>\n",
       ".dataframe > thead > tr,\n",
       ".dataframe > tbody > tr {\n",
       "  text-align: right;\n",
       "  white-space: pre-wrap;\n",
       "}\n",
       "</style>\n",
       "<small>shape: (2, 7)</small><table border=\"1\" class=\"dataframe\"><thead><tr><th>City 1</th><th>Lat 1</th><th>Long 1</th><th>City 2</th><th>Lat 2</th><th>Long 2</th><th>Distance from Web (km)</th></tr><tr><td>str</td><td>f64</td><td>f64</td><td>str</td><td>f64</td><td>f64</td><td>f64</td></tr></thead><tbody><tr><td>&quot;Winona, MN&quot;</td><td>44.050556</td><td>-91.66833</td><td>&quot;Ames, IA&quot;</td><td>42.018056</td><td>-93.62</td><td>276.48</td></tr><tr><td>&quot;Glagow, Scotland, UK&quot;</td><td>55.861111</td><td>-4.25</td><td>&quot;Ames, IA&quot;</td><td>42.018056</td><td>-93.62</td><td>6237.63</td></tr></tbody></table></div>"
      ],
      "text/plain": [
       "shape: (2, 7)\n",
       "┌─────────────────────┬───────────┬───────────┬──────────┬───────────┬────────┬────────────────────┐\n",
       "│ City 1              ┆ Lat 1     ┆ Long 1    ┆ City 2   ┆ Lat 2     ┆ Long 2 ┆ Distance from Web  │\n",
       "│ ---                 ┆ ---       ┆ ---       ┆ ---      ┆ ---       ┆ ---    ┆ (km)               │\n",
       "│ str                 ┆ f64       ┆ f64       ┆ str      ┆ f64       ┆ f64    ┆ ---                │\n",
       "│                     ┆           ┆           ┆          ┆           ┆        ┆ f64                │\n",
       "╞═════════════════════╪═══════════╪═══════════╪══════════╪═══════════╪════════╪════════════════════╡\n",
       "│ Winona, MN          ┆ 44.050556 ┆ -91.66833 ┆ Ames, IA ┆ 42.018056 ┆ -93.62 ┆ 276.48             │\n",
       "│ Glagow, Scotland,   ┆ 55.861111 ┆ -4.25     ┆ Ames, IA ┆ 42.018056 ┆ -93.62 ┆ 6237.63            │\n",
       "│ UK                  ┆           ┆           ┆          ┆           ┆        ┆                    │\n",
       "└─────────────────────┴───────────┴───────────┴──────────┴───────────┴────────┴────────────────────┘"
      ]
     },
     "execution_count": 25,
     "metadata": {},
     "output_type": "execute_result"
    }
   ],
   "source": [
    "(lat_lng_example :=\n",
    " pl.read_csv(absolute_path)\n",
    ")"
   ]
  },
  {
   "cell_type": "markdown",
   "id": "3f658194-ada1-4a12-bca0-2dfda1e00eeb",
   "metadata": {},
   "source": [
    "## Illustrating the problem with absolute addresses\n",
    "\n",
    "While the relative address in problem 1 points to the data IN THIS COPY of the repo, the absolute address points to the data in EXACTLY one of the copies of the repository. This becomes a problem if (A) anything changes in that repository, or (B) we are working on a different machine.\n",
    "\n",
    "**Tasks.** To illustrate why this is a problem, do the following.\n",
    "\n",
    "1. From your first/primary repository commit and push this notebook to GitHub,\n",
    "2. Fetch and pull this notebook to another local copy of the repository,\n",
    "3. In your file explorer (Files or Finder), move your first/primary repository into another folder, e.g., make a new folder and drag-and-drop the repo.\n",
    "4. Rerun the cells in each local copy of the repository and document your findings in the WORD document. "
   ]
  },
  {
   "cell_type": "code",
   "execution_count": 37,
   "id": "10af5602-1de2-449c-a9a5-5df1bc210d5b",
   "metadata": {},
   "outputs": [],
   "source": [
    "#why  use relative references?\n",
    "#answer:Absolute refgerences are miserable to work with.\n",
    "#I would much rather refer within the folder that can change locations freely, than to need to constantly change all my hard coded addresses."
   ]
  },
  {
   "cell_type": "code",
   "execution_count": 41,
   "id": "66e24df9-edd5-438c-a3ea-3c79c827fbd2",
   "metadata": {},
   "outputs": [],
   "source": [
    "#healthcare assignment\n",
    "# import data \n",
    "\n",
    "rv = pl.read_csv('data/ReverseCodingItems.csv')\n",
    "hd = pl.read_csv('data/health_survey.csv')"
   ]
  },
  {
   "cell_type": "code",
   "execution_count": 31,
   "id": "c7bca244-cbef-4bce-ab0a-c43bf379bb00",
   "metadata": {},
   "outputs": [
    {
     "name": "stdout",
     "output_type": "stream",
     "text": [
      "shape: (20, 3)\n",
      "┌─────┬──────────┬────────────────────────────┐\n",
      "│ id  ┆ variable ┆ value                      │\n",
      "│ --- ┆ ---      ┆ ---                        │\n",
      "│ i64 ┆ str      ┆ str                        │\n",
      "╞═════╪══════════╪════════════════════════════╡\n",
      "│ 1   ┆ F1       ┆ Somewhat Agree             │\n",
      "│ 2   ┆ F1       ┆ Somewhat Agree             │\n",
      "│ 3   ┆ F1       ┆ Strongly Agree             │\n",
      "│ 4   ┆ F1       ┆ Somewhat Agree             │\n",
      "│ 5   ┆ F1       ┆ Strongly Agree             │\n",
      "│ …   ┆ …        ┆ …                          │\n",
      "│ 16  ┆ F1       ┆ Neither Agree nor Disagree │\n",
      "│ 17  ┆ F1       ┆ Somewhat Agree             │\n",
      "│ 18  ┆ F1       ┆ Somewhat Agree             │\n",
      "│ 19  ┆ F1       ┆ Somewhat Agree             │\n",
      "│ 20  ┆ F1       ┆ Neither Agree nor Disagree │\n",
      "└─────┴──────────┴────────────────────────────┘\n"
     ]
    }
   ],
   "source": [
    "# do the pivot\n",
    "\n",
    "# Melt the DataFrame\n",
    "hd_stack = hd.unpivot(index=[\"id\"], on=['F1',\t'F1.1',\t'F1.2',\t'F1.3',\t'F1.4',\t'F1.5',\t'F1.6',\t'F1.7',\t'F2',\t'F2.1',\t'F2.10',\t'F2.11',\t'F2.2',\t'F2.3',\t'F2.4',\t'F2.5',\t'F2.6',\t'F2.7',\t'F2.8',\t'F2.9',\t'F3',\t'F3.1',\t'F3.2',\t'F3.3',\t'F3.4',\t'F3.5',\t'F4',\t'F4.1',\t'F4.2',\t'F4.3',\t'F4.4',\t'F5',\t'F5.1',\t'F5.2',\t'F5.3',\t'F5.4',\t'F5.5',\t'F5.6',\t'F5.7',\t'F6',\t'F6.1',\t'F6.2',\t'F6.3',\t'F6.4'\n",
    "])\n",
    "print(hd_stack.head( 20))"
   ]
  },
  {
   "cell_type": "code",
   "execution_count": 43,
   "id": "85d3a1c3-5b66-4ae4-be2d-4586eef7cca7",
   "metadata": {},
   "outputs": [
    {
     "data": {
      "text/html": [
       "<div><style>\n",
       ".dataframe > thead > tr,\n",
       ".dataframe > tbody > tr {\n",
       "  text-align: right;\n",
       "  white-space: pre-wrap;\n",
       "}\n",
       "</style>\n",
       "<small>shape: (20, 5)</small><table border=\"1\" class=\"dataframe\"><thead><tr><th>Question</th><th>Construct</th><th>Question # on Qualtrics Survey</th><th>Needs Reverse Coding?</th><th>Column Name</th></tr><tr><td>str</td><td>i64</td><td>i64</td><td>str</td><td>str</td></tr></thead><tbody><tr><td>&quot;In the future, I plan to parti…</td><td>1</td><td>1</td><td>&quot;No&quot;</td><td>&quot;F1&quot;</td></tr><tr><td>&quot;Individuals are responsible fo…</td><td>5</td><td>2</td><td>&quot;Yes&quot;</td><td>&quot;F5&quot;</td></tr><tr><td>&quot;When tryng to understand the p…</td><td>2</td><td>3</td><td>&quot;No&quot;</td><td>&quot;F2&quot;</td></tr><tr><td>&quot;I plan to become involved in m…</td><td>1</td><td>4</td><td>&quot;No&quot;</td><td>&quot;F1.1&quot;</td></tr><tr><td>&quot;I can communicate well with ot…</td><td>2</td><td>5</td><td>&quot;No&quot;</td><td>&quot;F2.1&quot;</td></tr><tr><td>&hellip;</td><td>&hellip;</td><td>&hellip;</td><td>&hellip;</td><td>&hellip;</td></tr><tr><td>&quot;We need to look no further tha…</td><td>5</td><td>16</td><td>&quot;Yes&quot;</td><td>&quot;F5.2&quot;</td></tr><tr><td>&quot;I can work cooperatively with …</td><td>2</td><td>17</td><td>&quot;No&quot;</td><td>&quot;F2.5&quot;</td></tr><tr><td>&quot;I enjoy meeting people who com…</td><td>6</td><td>18</td><td>&quot;No&quot;</td><td>&quot;F6.2&quot;</td></tr><tr><td>&quot;I plan to do some volunteer wo…</td><td>1</td><td>19</td><td>&quot;No&quot;</td><td>&quot;F1.3&quot;</td></tr><tr><td>&quot;I can easily get along with pe…</td><td>2</td><td>20</td><td>&quot;No&quot;</td><td>&quot;F2.6&quot;</td></tr></tbody></table></div>"
      ],
      "text/plain": [
       "shape: (20, 5)\n",
       "┌─────────────────────────────┬───────────┬──────────────────┬───────────────────────┬─────────────┐\n",
       "│ Question                    ┆ Construct ┆ Question # on    ┆ Needs Reverse Coding? ┆ Column Name │\n",
       "│ ---                         ┆ ---       ┆ Qualtrics Survey ┆ ---                   ┆ ---         │\n",
       "│ str                         ┆ i64       ┆ ---              ┆ str                   ┆ str         │\n",
       "│                             ┆           ┆ i64              ┆                       ┆             │\n",
       "╞═════════════════════════════╪═══════════╪══════════════════╪═══════════════════════╪═════════════╡\n",
       "│ In the future, I plan to    ┆ 1         ┆ 1                ┆ No                    ┆ F1          │\n",
       "│ parti…                      ┆           ┆                  ┆                       ┆             │\n",
       "│ Individuals are responsible ┆ 5         ┆ 2                ┆ Yes                   ┆ F5          │\n",
       "│ fo…                         ┆           ┆                  ┆                       ┆             │\n",
       "│ When tryng to understand    ┆ 2         ┆ 3                ┆ No                    ┆ F2          │\n",
       "│ the p…                      ┆           ┆                  ┆                       ┆             │\n",
       "│ I plan to become involved   ┆ 1         ┆ 4                ┆ No                    ┆ F1.1        │\n",
       "│ in m…                       ┆           ┆                  ┆                       ┆             │\n",
       "│ I can communicate well with ┆ 2         ┆ 5                ┆ No                    ┆ F2.1        │\n",
       "│ ot…                         ┆           ┆                  ┆                       ┆             │\n",
       "│ …                           ┆ …         ┆ …                ┆ …                     ┆ …           │\n",
       "│ We need to look no further  ┆ 5         ┆ 16               ┆ Yes                   ┆ F5.2        │\n",
       "│ tha…                        ┆           ┆                  ┆                       ┆             │\n",
       "│ I can work cooperatively    ┆ 2         ┆ 17               ┆ No                    ┆ F2.5        │\n",
       "│ with …                      ┆           ┆                  ┆                       ┆             │\n",
       "│ I enjoy meeting people who  ┆ 6         ┆ 18               ┆ No                    ┆ F6.2        │\n",
       "│ com…                        ┆           ┆                  ┆                       ┆             │\n",
       "│ I plan to do some volunteer ┆ 1         ┆ 19               ┆ No                    ┆ F1.3        │\n",
       "│ wo…                         ┆           ┆                  ┆                       ┆             │\n",
       "│ I can easily get along with ┆ 2         ┆ 20               ┆ No                    ┆ F2.6        │\n",
       "│ pe…                         ┆           ┆                  ┆                       ┆             │\n",
       "└─────────────────────────────┴───────────┴──────────────────┴───────────────────────┴─────────────┘"
      ]
     },
     "execution_count": 43,
     "metadata": {},
     "output_type": "execute_result"
    }
   ],
   "source": [
    "rv.head(20)"
   ]
  },
  {
   "cell_type": "code",
   "execution_count": 44,
   "id": "0495fea8-898c-462a-9fcc-cc4b5aa5659a",
   "metadata": {},
   "outputs": [
    {
     "name": "stdout",
     "output_type": "stream",
     "text": [
      "shape: (10, 4)\n",
      "┌─────┬──────────┬────────────────┬───────────────────────┐\n",
      "│ id  ┆ variable ┆ value          ┆ Needs Reverse Coding? │\n",
      "│ --- ┆ ---      ┆ ---            ┆ ---                   │\n",
      "│ i64 ┆ str      ┆ str            ┆ str                   │\n",
      "╞═════╪══════════╪════════════════╪═══════════════════════╡\n",
      "│ 1   ┆ F1       ┆ Somewhat Agree ┆ No                    │\n",
      "│ 2   ┆ F1       ┆ Somewhat Agree ┆ No                    │\n",
      "│ 3   ┆ F1       ┆ Strongly Agree ┆ No                    │\n",
      "│ 4   ┆ F1       ┆ Somewhat Agree ┆ No                    │\n",
      "│ 5   ┆ F1       ┆ Strongly Agree ┆ No                    │\n",
      "│ 6   ┆ F1       ┆ Strongly Agree ┆ No                    │\n",
      "│ 7   ┆ F1       ┆ Strongly Agree ┆ No                    │\n",
      "│ 8   ┆ F1       ┆ Strongly Agree ┆ No                    │\n",
      "│ 9   ┆ F1       ┆ Strongly Agree ┆ No                    │\n",
      "│ 10  ┆ F1       ┆ Strongly Agree ┆ No                    │\n",
      "└─────┴──────────┴────────────────┴───────────────────────┘\n"
     ]
    }
   ],
   "source": [
    "# join in the reverse table. using one to many join.\n",
    "\n",
    "#inner_joined_df = pl.merge(hd_stack, rv, how='inner', left_on ='variable',right_on = 'Column Name')\n",
    "\n",
    "inner_joined_df = hd_stack.join(rv, left_on ='variable',right_on = 'Column Name', how ='inner')\n",
    "\n",
    "#do a select to only grab the columns we need\n",
    "\n",
    "joined_select = inner_joined_df[['id', 'variable','value','Needs Reverse Coding?' ]]\n",
    "\n",
    "#test = joined_select[joined_select['variable'] == 'F5'] #decided to do a test to ensure that the reverse coding came in right.\n",
    "\n",
    "\n",
    "print(joined_select.head(10))\n",
    "#"
   ]
  },
  {
   "cell_type": "code",
   "execution_count": 68,
   "id": "e3063c70-839c-41ab-ac85-a512e82d3eb8",
   "metadata": {
    "scrolled": true
   },
   "outputs": [],
   "source": [
    "#IGNORE THIS CELL\n",
    "\n",
    "# #  handle the reverse coding\n",
    "\n",
    "# def assign_numbers(row):\n",
    "# #1\n",
    "# if row['value'] == 'Strongly Disagree' and row['Needs Reverse Coding?'] == 'No':\n",
    "#     return 1\n",
    "# elif row['value'] == 'Strongly Disagree' and row['Needs Reverse Coding?'] == 'Yes':\n",
    "#     return 5\n",
    "# elif row['value'] == 'Strongly Disagree' and row['Needs Reverse Coding?'] == None:\n",
    "#     # return 1\n",
    "\n",
    "# #2    \n",
    "# elif row['value'] == 'Somewhat Disagree' and   row['Needs Reverse Coding?'] == 'No':\n",
    "#     return 2\n",
    "# elif row['value'] == 'Somewhat Disagree' and row['Needs Reverse Coding?'] == 'Yes':\n",
    "#     return 4\n",
    "# elif row['value'] == 'Somewhat Disagree' and   row['Needs Reverse Coding?'] == None:\n",
    "#     return 2\n",
    "\n",
    "# #3\n",
    "# elif row['value'] == 'Neither Agree nor Disagree':\n",
    "#     return 3\n",
    "\n",
    "# #4\n",
    "# elif row['value'] == 'Somewhat Agree' and row['Needs Reverse Coding?'] == 'No':\n",
    "#     return 4\n",
    "# elif row['value'] == 'Somewhat Agree' and row['Needs Reverse Coding?'] == 'Yes':\n",
    "#     return 2\n",
    "# elif row['value'] == 'Somewhat Agree' and row['Needs Reverse Coding?'] == None:\n",
    "#     return 4\n",
    "\n",
    "# #5\n",
    "# elif row['value'] == 'Strongly Agree' and row['Needs Reverse Coding?'] == 'No':\n",
    "#     return 5\n",
    "# elif row['value'] == 'Strongly Agree' and row['Needs Reverse Coding?'] == 'Yes' :\n",
    "#     return 1\n",
    "# elif row['value'] == 'Strongly Agree' and row['Needs Reverse Coding?'] == None:\n",
    "#     return 5\n",
    "\n",
    "\n",
    "\n",
    "\n",
    "\n",
    "\n",
    "# joined_select['TempReverseValue'] = joined_select.apply(assign_numbers, axis=1)\n",
    "# print(joined_select)"
   ]
  },
  {
   "cell_type": "code",
   "execution_count": 64,
   "id": "788aae0c-6288-4638-880f-15dea95d2367",
   "metadata": {},
   "outputs": [
    {
     "data": {
      "text/html": [
       "<div><style>\n",
       ".dataframe > thead > tr,\n",
       ".dataframe > tbody > tr {\n",
       "  text-align: right;\n",
       "  white-space: pre-wrap;\n",
       "}\n",
       "</style>\n",
       "<small>shape: (10, 5)</small><table border=\"1\" class=\"dataframe\"><thead><tr><th>id</th><th>variable</th><th>value</th><th>Needs Reverse Coding?</th><th>TempRecodeValue</th></tr><tr><td>i64</td><td>str</td><td>str</td><td>str</td><td>i32</td></tr></thead><tbody><tr><td>1</td><td>&quot;F1&quot;</td><td>&quot;Somewhat Agree&quot;</td><td>&quot;No&quot;</td><td>4</td></tr><tr><td>2</td><td>&quot;F1&quot;</td><td>&quot;Somewhat Agree&quot;</td><td>&quot;No&quot;</td><td>4</td></tr><tr><td>3</td><td>&quot;F1&quot;</td><td>&quot;Strongly Agree&quot;</td><td>&quot;No&quot;</td><td>5</td></tr><tr><td>4</td><td>&quot;F1&quot;</td><td>&quot;Somewhat Agree&quot;</td><td>&quot;No&quot;</td><td>4</td></tr><tr><td>5</td><td>&quot;F1&quot;</td><td>&quot;Strongly Agree&quot;</td><td>&quot;No&quot;</td><td>5</td></tr><tr><td>6</td><td>&quot;F1&quot;</td><td>&quot;Strongly Agree&quot;</td><td>&quot;No&quot;</td><td>5</td></tr><tr><td>7</td><td>&quot;F1&quot;</td><td>&quot;Strongly Agree&quot;</td><td>&quot;No&quot;</td><td>5</td></tr><tr><td>8</td><td>&quot;F1&quot;</td><td>&quot;Strongly Agree&quot;</td><td>&quot;No&quot;</td><td>5</td></tr><tr><td>9</td><td>&quot;F1&quot;</td><td>&quot;Strongly Agree&quot;</td><td>&quot;No&quot;</td><td>5</td></tr><tr><td>10</td><td>&quot;F1&quot;</td><td>&quot;Strongly Agree&quot;</td><td>&quot;No&quot;</td><td>5</td></tr></tbody></table></div>"
      ],
      "text/plain": [
       "shape: (10, 5)\n",
       "┌─────┬──────────┬────────────────┬───────────────────────┬─────────────────┐\n",
       "│ id  ┆ variable ┆ value          ┆ Needs Reverse Coding? ┆ TempRecodeValue │\n",
       "│ --- ┆ ---      ┆ ---            ┆ ---                   ┆ ---             │\n",
       "│ i64 ┆ str      ┆ str            ┆ str                   ┆ i32             │\n",
       "╞═════╪══════════╪════════════════╪═══════════════════════╪═════════════════╡\n",
       "│ 1   ┆ F1       ┆ Somewhat Agree ┆ No                    ┆ 4               │\n",
       "│ 2   ┆ F1       ┆ Somewhat Agree ┆ No                    ┆ 4               │\n",
       "│ 3   ┆ F1       ┆ Strongly Agree ┆ No                    ┆ 5               │\n",
       "│ 4   ┆ F1       ┆ Somewhat Agree ┆ No                    ┆ 4               │\n",
       "│ 5   ┆ F1       ┆ Strongly Agree ┆ No                    ┆ 5               │\n",
       "│ 6   ┆ F1       ┆ Strongly Agree ┆ No                    ┆ 5               │\n",
       "│ 7   ┆ F1       ┆ Strongly Agree ┆ No                    ┆ 5               │\n",
       "│ 8   ┆ F1       ┆ Strongly Agree ┆ No                    ┆ 5               │\n",
       "│ 9   ┆ F1       ┆ Strongly Agree ┆ No                    ┆ 5               │\n",
       "│ 10  ┆ F1       ┆ Strongly Agree ┆ No                    ┆ 5               │\n",
       "└─────┴──────────┴────────────────┴───────────────────────┴─────────────────┘"
      ]
     },
     "execution_count": 64,
     "metadata": {},
     "output_type": "execute_result"
    }
   ],
   "source": [
    "# create the temp  recoded value \n",
    "joined_select = joined_select.with_columns(\n",
    "    pl.when(pl.col(\"value\") == \"Strongly Disagree\").then(1)\n",
    "        .when(pl.col(\"value\") == \"Somewhat Disagree\").then(2)\n",
    "        .when(pl.col(\"value\") == \"Neither Agree nor Disagree\").then(3)\n",
    "        .when(pl.col(\"value\") == \"Somewhat Agree\").then(4)\n",
    "        .when(pl.col(\"value\") == \"Strongly Agree\").then(5)\n",
    "        .otherwise(None)\n",
    "        .alias(\"TempRecodeValue\")\n",
    ")\n",
    "joined_select.head(20)"
   ]
  },
  {
   "cell_type": "code",
   "execution_count": 65,
   "id": "e101c365-71fd-4bf8-b07a-e30874419019",
   "metadata": {},
   "outputs": [
    {
     "data": {
      "text/html": [
       "<div><style>\n",
       ".dataframe > thead > tr,\n",
       ".dataframe > tbody > tr {\n",
       "  text-align: right;\n",
       "  white-space: pre-wrap;\n",
       "}\n",
       "</style>\n",
       "<small>shape: (10, 6)</small><table border=\"1\" class=\"dataframe\"><thead><tr><th>id</th><th>variable</th><th>value</th><th>Needs Reverse Coding?</th><th>TempRecodeValue</th><th>TempReverseValue</th></tr><tr><td>i64</td><td>str</td><td>str</td><td>str</td><td>i32</td><td>i32</td></tr></thead><tbody><tr><td>1</td><td>&quot;F1&quot;</td><td>&quot;Somewhat Agree&quot;</td><td>&quot;No&quot;</td><td>4</td><td>2</td></tr><tr><td>2</td><td>&quot;F1&quot;</td><td>&quot;Somewhat Agree&quot;</td><td>&quot;No&quot;</td><td>4</td><td>2</td></tr><tr><td>3</td><td>&quot;F1&quot;</td><td>&quot;Strongly Agree&quot;</td><td>&quot;No&quot;</td><td>5</td><td>1</td></tr><tr><td>4</td><td>&quot;F1&quot;</td><td>&quot;Somewhat Agree&quot;</td><td>&quot;No&quot;</td><td>4</td><td>2</td></tr><tr><td>5</td><td>&quot;F1&quot;</td><td>&quot;Strongly Agree&quot;</td><td>&quot;No&quot;</td><td>5</td><td>1</td></tr><tr><td>6</td><td>&quot;F1&quot;</td><td>&quot;Strongly Agree&quot;</td><td>&quot;No&quot;</td><td>5</td><td>1</td></tr><tr><td>7</td><td>&quot;F1&quot;</td><td>&quot;Strongly Agree&quot;</td><td>&quot;No&quot;</td><td>5</td><td>1</td></tr><tr><td>8</td><td>&quot;F1&quot;</td><td>&quot;Strongly Agree&quot;</td><td>&quot;No&quot;</td><td>5</td><td>1</td></tr><tr><td>9</td><td>&quot;F1&quot;</td><td>&quot;Strongly Agree&quot;</td><td>&quot;No&quot;</td><td>5</td><td>1</td></tr><tr><td>10</td><td>&quot;F1&quot;</td><td>&quot;Strongly Agree&quot;</td><td>&quot;No&quot;</td><td>5</td><td>1</td></tr></tbody></table></div>"
      ],
      "text/plain": [
       "shape: (10, 6)\n",
       "┌─────┬──────────┬────────────────┬───────────────────────┬─────────────────┬──────────────────┐\n",
       "│ id  ┆ variable ┆ value          ┆ Needs Reverse Coding? ┆ TempRecodeValue ┆ TempReverseValue │\n",
       "│ --- ┆ ---      ┆ ---            ┆ ---                   ┆ ---             ┆ ---              │\n",
       "│ i64 ┆ str      ┆ str            ┆ str                   ┆ i32             ┆ i32              │\n",
       "╞═════╪══════════╪════════════════╪═══════════════════════╪═════════════════╪══════════════════╡\n",
       "│ 1   ┆ F1       ┆ Somewhat Agree ┆ No                    ┆ 4               ┆ 2                │\n",
       "│ 2   ┆ F1       ┆ Somewhat Agree ┆ No                    ┆ 4               ┆ 2                │\n",
       "│ 3   ┆ F1       ┆ Strongly Agree ┆ No                    ┆ 5               ┆ 1                │\n",
       "│ 4   ┆ F1       ┆ Somewhat Agree ┆ No                    ┆ 4               ┆ 2                │\n",
       "│ 5   ┆ F1       ┆ Strongly Agree ┆ No                    ┆ 5               ┆ 1                │\n",
       "│ 6   ┆ F1       ┆ Strongly Agree ┆ No                    ┆ 5               ┆ 1                │\n",
       "│ 7   ┆ F1       ┆ Strongly Agree ┆ No                    ┆ 5               ┆ 1                │\n",
       "│ 8   ┆ F1       ┆ Strongly Agree ┆ No                    ┆ 5               ┆ 1                │\n",
       "│ 9   ┆ F1       ┆ Strongly Agree ┆ No                    ┆ 5               ┆ 1                │\n",
       "│ 10  ┆ F1       ┆ Strongly Agree ┆ No                    ┆ 5               ┆ 1                │\n",
       "└─────┴──────────┴────────────────┴───────────────────────┴─────────────────┴──────────────────┘"
      ]
     },
     "execution_count": 65,
     "metadata": {},
     "output_type": "execute_result"
    }
   ],
   "source": [
    "#create the temp recoded reversed value\n",
    "joined_select = joined_select.with_columns(\n",
    "    pl.when(pl.col(\"value\") == \"Strongly Disagree\").then(5)\n",
    "        .when(pl.col(\"value\") == \"Somewhat Disagree\").then(4)\n",
    "        .when(pl.col(\"value\") == \"Neither Agree nor Disagree\").then(3)\n",
    "        .when(pl.col(\"value\") == \"Somewhat Agree\").then(2)\n",
    "        .when(pl.col(\"value\") == \"Strongly Agree\").then(1)\n",
    "        .otherwise(None)\n",
    "        .alias(\"TempReverseValue\")\n",
    ")\n",
    "joined_select.head(20)"
   ]
  },
  {
   "cell_type": "code",
   "execution_count": 102,
   "id": "22f1fced-b66f-4195-ac1a-6f367ec5e318",
   "metadata": {},
   "outputs": [
    {
     "data": {
      "text/html": [
       "<div><style>\n",
       ".dataframe > thead > tr,\n",
       ".dataframe > tbody > tr {\n",
       "  text-align: right;\n",
       "  white-space: pre-wrap;\n",
       "}\n",
       "</style>\n",
       "<small>shape: (10, 9)</small><table border=\"1\" class=\"dataframe\"><thead><tr><th>id</th><th>variable</th><th>value</th><th>Needs Reverse Coding?</th><th>TempRecodeValue</th><th>TempReverseValue</th><th>RecodedValue</th><th>question_type</th><th>participant</th></tr><tr><td>i64</td><td>str</td><td>str</td><td>str</td><td>i32</td><td>i32</td><td>i32</td><td>str</td><td>i64</td></tr></thead><tbody><tr><td>1</td><td>&quot;F1&quot;</td><td>&quot;Somewhat Agree&quot;</td><td>&quot;No&quot;</td><td>4</td><td>2</td><td>4</td><td>&quot;F1&quot;</td><td>1</td></tr><tr><td>2</td><td>&quot;F1&quot;</td><td>&quot;Somewhat Agree&quot;</td><td>&quot;No&quot;</td><td>4</td><td>2</td><td>4</td><td>&quot;F1&quot;</td><td>2</td></tr><tr><td>3</td><td>&quot;F1&quot;</td><td>&quot;Strongly Agree&quot;</td><td>&quot;No&quot;</td><td>5</td><td>1</td><td>5</td><td>&quot;F1&quot;</td><td>3</td></tr><tr><td>4</td><td>&quot;F1&quot;</td><td>&quot;Somewhat Agree&quot;</td><td>&quot;No&quot;</td><td>4</td><td>2</td><td>4</td><td>&quot;F1&quot;</td><td>4</td></tr><tr><td>5</td><td>&quot;F1&quot;</td><td>&quot;Strongly Agree&quot;</td><td>&quot;No&quot;</td><td>5</td><td>1</td><td>5</td><td>&quot;F1&quot;</td><td>5</td></tr><tr><td>6</td><td>&quot;F1&quot;</td><td>&quot;Strongly Agree&quot;</td><td>&quot;No&quot;</td><td>5</td><td>1</td><td>5</td><td>&quot;F1&quot;</td><td>6</td></tr><tr><td>7</td><td>&quot;F1&quot;</td><td>&quot;Strongly Agree&quot;</td><td>&quot;No&quot;</td><td>5</td><td>1</td><td>5</td><td>&quot;F1&quot;</td><td>7</td></tr><tr><td>8</td><td>&quot;F1&quot;</td><td>&quot;Strongly Agree&quot;</td><td>&quot;No&quot;</td><td>5</td><td>1</td><td>5</td><td>&quot;F1&quot;</td><td>8</td></tr><tr><td>9</td><td>&quot;F1&quot;</td><td>&quot;Strongly Agree&quot;</td><td>&quot;No&quot;</td><td>5</td><td>1</td><td>5</td><td>&quot;F1&quot;</td><td>9</td></tr><tr><td>10</td><td>&quot;F1&quot;</td><td>&quot;Strongly Agree&quot;</td><td>&quot;No&quot;</td><td>5</td><td>1</td><td>5</td><td>&quot;F1&quot;</td><td>10</td></tr></tbody></table></div>"
      ],
      "text/plain": [
       "shape: (10, 9)\n",
       "┌─────┬──────────┬─────────────┬─────────┬───┬─────────────┬─────────────┬────────────┬────────────┐\n",
       "│ id  ┆ variable ┆ value       ┆ Needs   ┆ … ┆ TempReverse ┆ RecodedValu ┆ question_t ┆ participan │\n",
       "│ --- ┆ ---      ┆ ---         ┆ Reverse ┆   ┆ Value       ┆ e           ┆ ype        ┆ t          │\n",
       "│ i64 ┆ str      ┆ str         ┆ Coding? ┆   ┆ ---         ┆ ---         ┆ ---        ┆ ---        │\n",
       "│     ┆          ┆             ┆ ---     ┆   ┆ i32         ┆ i32         ┆ str        ┆ i64        │\n",
       "│     ┆          ┆             ┆ str     ┆   ┆             ┆             ┆            ┆            │\n",
       "╞═════╪══════════╪═════════════╪═════════╪═══╪═════════════╪═════════════╪════════════╪════════════╡\n",
       "│ 1   ┆ F1       ┆ Somewhat    ┆ No      ┆ … ┆ 2           ┆ 4           ┆ F1         ┆ 1          │\n",
       "│     ┆          ┆ Agree       ┆         ┆   ┆             ┆             ┆            ┆            │\n",
       "│ 2   ┆ F1       ┆ Somewhat    ┆ No      ┆ … ┆ 2           ┆ 4           ┆ F1         ┆ 2          │\n",
       "│     ┆          ┆ Agree       ┆         ┆   ┆             ┆             ┆            ┆            │\n",
       "│ 3   ┆ F1       ┆ Strongly    ┆ No      ┆ … ┆ 1           ┆ 5           ┆ F1         ┆ 3          │\n",
       "│     ┆          ┆ Agree       ┆         ┆   ┆             ┆             ┆            ┆            │\n",
       "│ 4   ┆ F1       ┆ Somewhat    ┆ No      ┆ … ┆ 2           ┆ 4           ┆ F1         ┆ 4          │\n",
       "│     ┆          ┆ Agree       ┆         ┆   ┆             ┆             ┆            ┆            │\n",
       "│ 5   ┆ F1       ┆ Strongly    ┆ No      ┆ … ┆ 1           ┆ 5           ┆ F1         ┆ 5          │\n",
       "│     ┆          ┆ Agree       ┆         ┆   ┆             ┆             ┆            ┆            │\n",
       "│ 6   ┆ F1       ┆ Strongly    ┆ No      ┆ … ┆ 1           ┆ 5           ┆ F1         ┆ 6          │\n",
       "│     ┆          ┆ Agree       ┆         ┆   ┆             ┆             ┆            ┆            │\n",
       "│ 7   ┆ F1       ┆ Strongly    ┆ No      ┆ … ┆ 1           ┆ 5           ┆ F1         ┆ 7          │\n",
       "│     ┆          ┆ Agree       ┆         ┆   ┆             ┆             ┆            ┆            │\n",
       "│ 8   ┆ F1       ┆ Strongly    ┆ No      ┆ … ┆ 1           ┆ 5           ┆ F1         ┆ 8          │\n",
       "│     ┆          ┆ Agree       ┆         ┆   ┆             ┆             ┆            ┆            │\n",
       "│ 9   ┆ F1       ┆ Strongly    ┆ No      ┆ … ┆ 1           ┆ 5           ┆ F1         ┆ 9          │\n",
       "│     ┆          ┆ Agree       ┆         ┆   ┆             ┆             ┆            ┆            │\n",
       "│ 10  ┆ F1       ┆ Strongly    ┆ No      ┆ … ┆ 1           ┆ 5           ┆ F1         ┆ 10         │\n",
       "│     ┆          ┆ Agree       ┆         ┆   ┆             ┆             ┆            ┆            │\n",
       "└─────┴──────────┴─────────────┴─────────┴───┴─────────────┴─────────────┴────────────┴────────────┘"
      ]
     },
     "execution_count": 102,
     "metadata": {},
     "output_type": "execute_result"
    }
   ],
   "source": [
    "## create the final recoded value\n",
    "joined_select = joined_select.with_columns(\n",
    "    pl.when(pl.col(\"Needs Reverse Coding?\") == \"No\").then(pl.col(\"TempRecodeValue\"))\n",
    "        .when(pl.col(\"Needs Reverse Coding?\") == \"Yes\").then(pl.col(\"TempReverseValue\"))\n",
    "        .otherwise(pl.col(\"TempRecodeValue\"))\n",
    "        .alias(\"RecodedValue\")\n",
    ")\n",
    "joined_select.head(20)"
   ]
  },
  {
   "cell_type": "code",
   "execution_count": 100,
   "id": "a653dc18-02ce-49b4-8030-ad4a5cecbb9c",
   "metadata": {},
   "outputs": [
    {
     "data": {
      "text/html": [
       "<div><style>\n",
       ".dataframe > thead > tr,\n",
       ".dataframe > tbody > tr {\n",
       "  text-align: right;\n",
       "  white-space: pre-wrap;\n",
       "}\n",
       "</style>\n",
       "<small>shape: (10, 4)</small><table border=\"1\" class=\"dataframe\"><thead><tr><th>participant</th><th>id</th><th>question_type</th><th>RecodedValue</th></tr><tr><td>i64</td><td>i64</td><td>str</td><td>i32</td></tr></thead><tbody><tr><td>1</td><td>1</td><td>&quot;F1&quot;</td><td>4</td></tr><tr><td>2</td><td>2</td><td>&quot;F1&quot;</td><td>4</td></tr><tr><td>3</td><td>3</td><td>&quot;F1&quot;</td><td>5</td></tr><tr><td>4</td><td>4</td><td>&quot;F1&quot;</td><td>4</td></tr><tr><td>5</td><td>5</td><td>&quot;F1&quot;</td><td>5</td></tr><tr><td>6</td><td>6</td><td>&quot;F1&quot;</td><td>5</td></tr><tr><td>7</td><td>7</td><td>&quot;F1&quot;</td><td>5</td></tr><tr><td>8</td><td>8</td><td>&quot;F1&quot;</td><td>5</td></tr><tr><td>9</td><td>9</td><td>&quot;F1&quot;</td><td>5</td></tr><tr><td>10</td><td>10</td><td>&quot;F1&quot;</td><td>5</td></tr></tbody></table></div>"
      ],
      "text/plain": [
       "shape: (10, 4)\n",
       "┌─────────────┬─────┬───────────────┬──────────────┐\n",
       "│ participant ┆ id  ┆ question_type ┆ RecodedValue │\n",
       "│ ---         ┆ --- ┆ ---           ┆ ---          │\n",
       "│ i64         ┆ i64 ┆ str           ┆ i32          │\n",
       "╞═════════════╪═════╪═══════════════╪══════════════╡\n",
       "│ 1           ┆ 1   ┆ F1            ┆ 4            │\n",
       "│ 2           ┆ 2   ┆ F1            ┆ 4            │\n",
       "│ 3           ┆ 3   ┆ F1            ┆ 5            │\n",
       "│ 4           ┆ 4   ┆ F1            ┆ 4            │\n",
       "│ 5           ┆ 5   ┆ F1            ┆ 5            │\n",
       "│ 6           ┆ 6   ┆ F1            ┆ 5            │\n",
       "│ 7           ┆ 7   ┆ F1            ┆ 5            │\n",
       "│ 8           ┆ 8   ┆ F1            ┆ 5            │\n",
       "│ 9           ┆ 9   ┆ F1            ┆ 5            │\n",
       "│ 10          ┆ 10  ┆ F1            ┆ 5            │\n",
       "└─────────────┴─────┴───────────────┴──────────────┘"
      ]
     },
     "execution_count": 100,
     "metadata": {},
     "output_type": "execute_result"
    }
   ],
   "source": [
    "##START HERE THIS IS WHERE I ENDED BEFORE GOING TO GRANDMA AND GRANDPAS.\n",
    "\n",
    "# recode for question types and select.\n",
    "joined_select = joined_select.with_columns(\n",
    "    pl.col('variable').str.slice(0,2).alias('question_type'),\n",
    "    pl.col('id').alias('participant')\n",
    ")\n",
    "\n",
    "# joined_select['question_type'] = joined_select['variable'].str.slice(0,2)\n",
    "# joined_select['participant'] = joined_select.pl.co['id']\n",
    "\n",
    "\n",
    "joined_pre_final = joined_select [['participant','id' , 'question_type','RecodedValue' ]]\n",
    "joined_pre_final.head(20)\n"
   ]
  },
  {
   "cell_type": "code",
   "execution_count": 87,
   "id": "efc55571-1be6-488b-aa09-9827f6cd48bf",
   "metadata": {
    "scrolled": true
   },
   "outputs": [],
   "source": [
    "#conduct aggregation\n",
    "\n",
    "grouped = (\n",
    "    joined_pre_final\n",
    "    .group_by([\"question_type\", \"id\", \"participant\"])  # group keys\n",
    "    .agg([\n",
    "        pl.col(\"RecodedValue\").sum().alias(\"total_value\")  # aggregation\n",
    "    ])\n",
    ")\n"
   ]
  },
  {
   "cell_type": "code",
   "execution_count": 88,
   "id": "b43c66a0-a5e9-4967-9c5e-328815c64ad5",
   "metadata": {},
   "outputs": [
    {
     "name": "stdout",
     "output_type": "stream",
     "text": [
      "shape: (10, 4)\n",
      "┌───────────────┬─────┬─────────────┬─────────────┐\n",
      "│ question_type ┆ id  ┆ participant ┆ total_value │\n",
      "│ ---           ┆ --- ┆ ---         ┆ ---         │\n",
      "│ str           ┆ i64 ┆ i64         ┆ i32         │\n",
      "╞═══════════════╪═════╪═════════════╪═════════════╡\n",
      "│ F1            ┆ 3   ┆ 3           ┆ 5           │\n",
      "│ F1            ┆ 10  ┆ 10          ┆ 5           │\n",
      "│ F1            ┆ 9   ┆ 9           ┆ 5           │\n",
      "│ F1            ┆ 6   ┆ 6           ┆ 5           │\n",
      "│ F1            ┆ 5   ┆ 5           ┆ 5           │\n",
      "│ F1            ┆ 8   ┆ 8           ┆ 5           │\n",
      "│ F1            ┆ 7   ┆ 7           ┆ 5           │\n",
      "│ F1            ┆ 2   ┆ 2           ┆ 4           │\n",
      "│ F1            ┆ 1   ┆ 1           ┆ 4           │\n",
      "│ F1            ┆ 4   ┆ 4           ┆ 4           │\n",
      "└───────────────┴─────┴─────────────┴─────────────┘\n"
     ]
    }
   ],
   "source": [
    "print(grouped.head(20))\n"
   ]
  },
  {
   "cell_type": "code",
   "execution_count": 90,
   "id": "abb30e46-ef1e-4f4f-89aa-ca5722d3a9f0",
   "metadata": {},
   "outputs": [
    {
     "name": "stdout",
     "output_type": "stream",
     "text": [
      "shape: (10, 2)\n",
      "┌─────────────┬─────┐\n",
      "│ participant ┆ F1  │\n",
      "│ ---         ┆ --- │\n",
      "│ i64         ┆ i32 │\n",
      "╞═════════════╪═════╡\n",
      "│ 3           ┆ 5   │\n",
      "│ 10          ┆ 5   │\n",
      "│ 9           ┆ 5   │\n",
      "│ 6           ┆ 5   │\n",
      "│ 5           ┆ 5   │\n",
      "│ 8           ┆ 5   │\n",
      "│ 7           ┆ 5   │\n",
      "│ 2           ┆ 4   │\n",
      "│ 1           ┆ 4   │\n",
      "│ 4           ┆ 4   │\n",
      "└─────────────┴─────┘\n"
     ]
    }
   ],
   "source": [
    "# final pivot long.\n",
    "\n",
    "# Pivot the DataFrame\n",
    "pivoted_finale = grouped.pivot(\n",
    "    index = 'participant',\n",
    "    on = \"question_type\",\n",
    "    values=\"total_value\"\n",
    ")\n",
    "\n",
    "print(pivoted_finale)\n"
   ]
  },
  {
   "cell_type": "code",
   "execution_count": null,
   "id": "73235cfb-8bfb-4537-b09e-04dc638d5d46",
   "metadata": {},
   "outputs": [],
   "source": []
  },
  {
   "cell_type": "code",
   "execution_count": 93,
   "id": "3edcb19d-913e-42e8-969f-8ab77262ab37",
   "metadata": {},
   "outputs": [],
   "source": [
    "pivoted_finale.write_csv(\"data/health_survey_summary.csv\")\n"
   ]
  }
 ],
 "metadata": {
  "kernelspec": {
   "display_name": "Python 3 (ipykernel)",
   "language": "python",
   "name": "python3"
  },
  "language_info": {
   "codemirror_mode": {
    "name": "ipython",
    "version": 3
   },
   "file_extension": ".py",
   "mimetype": "text/x-python",
   "name": "python",
   "nbconvert_exporter": "python",
   "pygments_lexer": "ipython3",
   "version": "3.12.2"
  }
 },
 "nbformat": 4,
 "nbformat_minor": 5
}
