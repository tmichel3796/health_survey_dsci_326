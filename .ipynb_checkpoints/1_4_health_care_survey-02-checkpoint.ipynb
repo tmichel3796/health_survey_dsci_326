{
 "cells": [
  {
   "cell_type": "code",
   "execution_count": 194,
   "id": "35ba4434-6f56-4008-b388-dbb9a1d2be6a",
   "metadata": {},
   "outputs": [],
   "source": [
    "import polars as pl\n",
    "import pandas  as pd\n",
    "import os"
   ]
  },
  {
   "cell_type": "markdown",
   "id": "60887d35-6168-4b46-b1d8-077856f351f4",
   "metadata": {},
   "source": [
    "# Why use relative addresses?\n",
    "\n",
    "In this notebook, we will illustrate \n",
    "\n",
    "1. That relative addresses for loading data files works, but\n",
    "2. Using absolute addresses for loading data files *will not*."
   ]
  },
  {
   "cell_type": "markdown",
   "id": "9e71dd7c-a5df-49da-af06-279adb78ab7a",
   "metadata": {},
   "source": [
    "## Problem 1 - Load the `lat_long_example.csv` file using a relative address.\n",
    "\n",
    "**Tasks.**\n",
    "1. Open a terminal, start `nu`, and navigate to the root menu of your first/primary data repository,\n",
    "2. Use `ls **/*` to get the relative address of `lat_long_example.csv`, and\n",
    "3. Use `polars` to load and inspect these data using this relative path."
   ]
  },
  {
   "cell_type": "code",
   "execution_count": 32,
   "id": "449783a9-db7e-4d92-b45a-2ba0088916bd",
   "metadata": {},
   "outputs": [],
   "source": [
    "relative_path = \"./data/lat_long_examples.csv\""
   ]
  },
  {
   "cell_type": "code",
   "execution_count": 33,
   "id": "79d2bdb3-4125-4027-9110-387b75cbfe6d",
   "metadata": {},
   "outputs": [
    {
     "name": "stdout",
     "output_type": "stream",
     "text": [
      "/mnt/c/users/tmich/Desktop/my_repos/activities/health survey/health_survey_dsci_326\n"
     ]
    },
    {
     "data": {
      "text/html": [
       "<div><style>\n",
       ".dataframe > thead > tr,\n",
       ".dataframe > tbody > tr {\n",
       "  text-align: right;\n",
       "  white-space: pre-wrap;\n",
       "}\n",
       "</style>\n",
       "<small>shape: (2, 7)</small><table border=\"1\" class=\"dataframe\"><thead><tr><th>City 1</th><th>Lat 1</th><th>Long 1</th><th>City 2</th><th>Lat 2</th><th>Long 2</th><th>Distance from Web (km)</th></tr><tr><td>str</td><td>f64</td><td>f64</td><td>str</td><td>f64</td><td>f64</td><td>f64</td></tr></thead><tbody><tr><td>&quot;Winona, MN&quot;</td><td>44.050556</td><td>-91.66833</td><td>&quot;Ames, IA&quot;</td><td>42.018056</td><td>-93.62</td><td>276.48</td></tr><tr><td>&quot;Glagow, Scotland, UK&quot;</td><td>55.861111</td><td>-4.25</td><td>&quot;Ames, IA&quot;</td><td>42.018056</td><td>-93.62</td><td>6237.63</td></tr></tbody></table></div>"
      ],
      "text/plain": [
       "shape: (2, 7)\n",
       "┌─────────────────────┬───────────┬───────────┬──────────┬───────────┬────────┬────────────────────┐\n",
       "│ City 1              ┆ Lat 1     ┆ Long 1    ┆ City 2   ┆ Lat 2     ┆ Long 2 ┆ Distance from Web  │\n",
       "│ ---                 ┆ ---       ┆ ---       ┆ ---      ┆ ---       ┆ ---    ┆ (km)               │\n",
       "│ str                 ┆ f64       ┆ f64       ┆ str      ┆ f64       ┆ f64    ┆ ---                │\n",
       "│                     ┆           ┆           ┆          ┆           ┆        ┆ f64                │\n",
       "╞═════════════════════╪═══════════╪═══════════╪══════════╪═══════════╪════════╪════════════════════╡\n",
       "│ Winona, MN          ┆ 44.050556 ┆ -91.66833 ┆ Ames, IA ┆ 42.018056 ┆ -93.62 ┆ 276.48             │\n",
       "│ Glagow, Scotland,   ┆ 55.861111 ┆ -4.25     ┆ Ames, IA ┆ 42.018056 ┆ -93.62 ┆ 6237.63            │\n",
       "│ UK                  ┆           ┆           ┆          ┆           ┆        ┆                    │\n",
       "└─────────────────────┴───────────┴───────────┴──────────┴───────────┴────────┴────────────────────┘"
      ]
     },
     "execution_count": 33,
     "metadata": {},
     "output_type": "execute_result"
    }
   ],
   "source": [
    "print(os.getcwd())\n",
    "(lat_lng_example :=\n",
    " pl.read_csv(relative_path)\n",
    ")"
   ]
  },
  {
   "cell_type": "markdown",
   "id": "a173049f-b638-426f-adb3-0a9a13251ccb",
   "metadata": {},
   "source": [
    "## Problem 2 - Load the `lat_long_example.csv` file using a absolute address.\n",
    "\n",
    "**Tasks.**\n",
    "1. Open a terminal, start `nu`, and navigate to the root menu of *one of your first/primary data repository,\n",
    "2. Use `glob **/*` to get the absolute address of `lat_long_example.csv`, and\n",
    "3. Use `polars` to load and inspect these data."
   ]
  },
  {
   "cell_type": "code",
   "execution_count": 43,
   "id": "68846b35-bf00-43ee-8de9-893a70a2c389",
   "metadata": {},
   "outputs": [],
   "source": [
    "absolute_path = \"/mnt/c/Users/tmich/Desktop/my_repos/activities/health_survey/health_survey_dsci_326/data/lat_long_examples.csv\""
   ]
  },
  {
   "cell_type": "code",
   "execution_count": 44,
   "id": "92fc5bf7-f898-4ac6-934a-c5fc8e23d365",
   "metadata": {},
   "outputs": [
    {
     "data": {
      "text/html": [
       "<div><style>\n",
       ".dataframe > thead > tr,\n",
       ".dataframe > tbody > tr {\n",
       "  text-align: right;\n",
       "  white-space: pre-wrap;\n",
       "}\n",
       "</style>\n",
       "<small>shape: (2, 7)</small><table border=\"1\" class=\"dataframe\"><thead><tr><th>City 1</th><th>Lat 1</th><th>Long 1</th><th>City 2</th><th>Lat 2</th><th>Long 2</th><th>Distance from Web (km)</th></tr><tr><td>str</td><td>f64</td><td>f64</td><td>str</td><td>f64</td><td>f64</td><td>f64</td></tr></thead><tbody><tr><td>&quot;Winona, MN&quot;</td><td>44.050556</td><td>-91.66833</td><td>&quot;Ames, IA&quot;</td><td>42.018056</td><td>-93.62</td><td>276.48</td></tr><tr><td>&quot;Glagow, Scotland, UK&quot;</td><td>55.861111</td><td>-4.25</td><td>&quot;Ames, IA&quot;</td><td>42.018056</td><td>-93.62</td><td>6237.63</td></tr></tbody></table></div>"
      ],
      "text/plain": [
       "shape: (2, 7)\n",
       "┌─────────────────────┬───────────┬───────────┬──────────┬───────────┬────────┬────────────────────┐\n",
       "│ City 1              ┆ Lat 1     ┆ Long 1    ┆ City 2   ┆ Lat 2     ┆ Long 2 ┆ Distance from Web  │\n",
       "│ ---                 ┆ ---       ┆ ---       ┆ ---      ┆ ---       ┆ ---    ┆ (km)               │\n",
       "│ str                 ┆ f64       ┆ f64       ┆ str      ┆ f64       ┆ f64    ┆ ---                │\n",
       "│                     ┆           ┆           ┆          ┆           ┆        ┆ f64                │\n",
       "╞═════════════════════╪═══════════╪═══════════╪══════════╪═══════════╪════════╪════════════════════╡\n",
       "│ Winona, MN          ┆ 44.050556 ┆ -91.66833 ┆ Ames, IA ┆ 42.018056 ┆ -93.62 ┆ 276.48             │\n",
       "│ Glagow, Scotland,   ┆ 55.861111 ┆ -4.25     ┆ Ames, IA ┆ 42.018056 ┆ -93.62 ┆ 6237.63            │\n",
       "│ UK                  ┆           ┆           ┆          ┆           ┆        ┆                    │\n",
       "└─────────────────────┴───────────┴───────────┴──────────┴───────────┴────────┴────────────────────┘"
      ]
     },
     "execution_count": 44,
     "metadata": {},
     "output_type": "execute_result"
    }
   ],
   "source": [
    "(lat_lng_example :=\n",
    " pl.read_csv(absolute_path)\n",
    ")"
   ]
  },
  {
   "cell_type": "markdown",
   "id": "3f658194-ada1-4a12-bca0-2dfda1e00eeb",
   "metadata": {},
   "source": [
    "## Illustrating the problem with absolute addresses\n",
    "\n",
    "While the relative address in problem 1 points to the data IN THIS COPY of the repo, the absolute address points to the data in EXACTLY one of the copies of the repository. This becomes a problem if (A) anything changes in that repository, or (B) we are working on a different machine.\n",
    "\n",
    "**Tasks.** To illustrate why this is a problem, do the following.\n",
    "\n",
    "1. From your first/primary repository commit and push this notebook to GitHub,\n",
    "2. Fetch and pull this notebook to another local copy of the repository,\n",
    "3. In your file explorer (Files or Finder), move your first/primary repository into another folder, e.g., make a new folder and drag-and-drop the repo.\n",
    "4. Rerun the cells in each local copy of the repository and document your findings in the WORD document. "
   ]
  },
  {
   "cell_type": "code",
   "execution_count": 37,
   "id": "10af5602-1de2-449c-a9a5-5df1bc210d5b",
   "metadata": {},
   "outputs": [],
   "source": [
    "#why  use relative references?\n",
    "#answer:Absolute refgerences are miserable to work with.\n",
    "#I would much rather refer within the folder that can change locations freely, than to need to constantly change all my hard coded addresses."
   ]
  },
  {
   "cell_type": "code",
   "execution_count": 129,
   "id": "66e24df9-edd5-438c-a3ea-3c79c827fbd2",
   "metadata": {},
   "outputs": [],
   "source": [
    "#healthcare assignment\n",
    "# import data \n",
    "\n",
    "rv = pd.read_csv('data/ReverseCodingItems.csv')\n",
    "hd = pd.read_csv('data/health_survey.csv')"
   ]
  },
  {
   "cell_type": "code",
   "execution_count": 130,
   "id": "c7bca244-cbef-4bce-ab0a-c43bf379bb00",
   "metadata": {},
   "outputs": [
    {
     "name": "stdout",
     "output_type": "stream",
     "text": [
      "    id variable                       value\n",
      "0    1       F1              Somewhat Agree\n",
      "1    2       F1              Somewhat Agree\n",
      "2    3       F1              Strongly Agree\n",
      "3    4       F1              Somewhat Agree\n",
      "4    5       F1              Strongly Agree\n",
      "5    6       F1              Strongly Agree\n",
      "6    7       F1              Strongly Agree\n",
      "7    8       F1              Strongly Agree\n",
      "8    9       F1              Strongly Agree\n",
      "9   10       F1              Strongly Agree\n",
      "10  11       F1              Somewhat Agree\n",
      "11  12       F1              Strongly Agree\n",
      "12  13       F1              Somewhat Agree\n",
      "13  14       F1              Somewhat Agree\n",
      "14  15       F1              Somewhat Agree\n",
      "15  16       F1  Neither Agree nor Disagree\n",
      "16  17       F1              Somewhat Agree\n",
      "17  18       F1              Somewhat Agree\n",
      "18  19       F1              Somewhat Agree\n",
      "19  20       F1  Neither Agree nor Disagree\n"
     ]
    }
   ],
   "source": [
    "# do the pivot\n",
    "\n",
    "# Melt the DataFrame\n",
    "hd_stack = hd.melt(id_vars=[\"id\"], value_vars=['F1',\t'F1.1',\t'F1.2',\t'F1.3',\t'F1.4',\t'F1.5',\t'F1.6',\t'F1.7',\t'F2',\t'F2.1',\t'F2.10',\t'F2.11',\t'F2.2',\t'F2.3',\t'F2.4',\t'F2.5',\t'F2.6',\t'F2.7',\t'F2.8',\t'F2.9',\t'F3',\t'F3.1',\t'F3.2',\t'F3.3',\t'F3.4',\t'F3.5',\t'F4',\t'F4.1',\t'F4.2',\t'F4.3',\t'F4.4',\t'F5',\t'F5.1',\t'F5.2',\t'F5.3',\t'F5.4',\t'F5.5',\t'F5.6',\t'F5.7',\t'F6',\t'F6.1',\t'F6.2',\t'F6.3',\t'F6.4'\n",
    "])\n",
    "print(hd_stack.head( 20))"
   ]
  },
  {
   "cell_type": "code",
   "execution_count": 131,
   "id": "0495fea8-898c-462a-9fcc-cc4b5aa5659a",
   "metadata": {},
   "outputs": [
    {
     "name": "stdout",
     "output_type": "stream",
     "text": [
      "   id variable           value Needs Reverse Coding?\n",
      "0   1       F1  Somewhat Agree                    No\n",
      "1   2       F1  Somewhat Agree                    No\n",
      "2   3       F1  Strongly Agree                    No\n",
      "3   4       F1  Somewhat Agree                    No\n",
      "4   5       F1  Strongly Agree                    No\n",
      "5   6       F1  Strongly Agree                    No\n",
      "6   7       F1  Strongly Agree                    No\n",
      "7   8       F1  Strongly Agree                    No\n",
      "8   9       F1  Strongly Agree                    No\n",
      "9  10       F1  Strongly Agree                    No\n"
     ]
    }
   ],
   "source": [
    "# join in the reverse table. using one to many join.\n",
    "\n",
    "inner_joined_df = pd.merge(hd_stack, rv, how='inner', left_on ='variable',right_on = 'Column Name')\n",
    "\n",
    "#do a select to only grab the columns we need\n",
    "\n",
    "joined_select = inner_joined_df[['id', 'variable','value','Needs Reverse Coding?' ]]\n",
    "\n",
    "#test = joined_select[joined_select['variable'] == 'F5'] #decided to do a test to ensure that the reverse coding came in right.\n",
    "\n",
    "\n",
    "print(joined_select.head(10))\n"
   ]
  },
  {
   "cell_type": "code",
   "execution_count": 132,
   "id": "e3063c70-839c-41ab-ac85-a512e82d3eb8",
   "metadata": {
    "scrolled": true
   },
   "outputs": [
    {
     "name": "stdout",
     "output_type": "stream",
     "text": [
      "        id variable                       value Needs Reverse Coding?  \\\n",
      "0        1       F1              Somewhat Agree                    No   \n",
      "1        2       F1              Somewhat Agree                    No   \n",
      "2        3       F1              Strongly Agree                    No   \n",
      "3        4       F1              Somewhat Agree                    No   \n",
      "4        5       F1              Strongly Agree                    No   \n",
      "...    ...      ...                         ...                   ...   \n",
      "11611  260     F6.4  Neither Agree nor Disagree                   Yes   \n",
      "11612  261     F6.4                         NaN                   Yes   \n",
      "11613  262     F6.4  Neither Agree nor Disagree                   Yes   \n",
      "11614  263     F6.4           Somewhat Disagree                   Yes   \n",
      "11615  264     F6.4  Neither Agree nor Disagree                   Yes   \n",
      "\n",
      "       TempReverseValue  \n",
      "0                   4.0  \n",
      "1                   4.0  \n",
      "2                   5.0  \n",
      "3                   4.0  \n",
      "4                   5.0  \n",
      "...                 ...  \n",
      "11611               3.0  \n",
      "11612               NaN  \n",
      "11613               3.0  \n",
      "11614               4.0  \n",
      "11615               3.0  \n",
      "\n",
      "[11616 rows x 5 columns]\n"
     ]
    },
    {
     "name": "stderr",
     "output_type": "stream",
     "text": [
      "/tmp/ipykernel_3522/1856397591.py:45: SettingWithCopyWarning: \n",
      "A value is trying to be set on a copy of a slice from a DataFrame.\n",
      "Try using .loc[row_indexer,col_indexer] = value instead\n",
      "\n",
      "See the caveats in the documentation: https://pandas.pydata.org/pandas-docs/stable/user_guide/indexing.html#returning-a-view-versus-a-copy\n",
      "  joined_select['TempReverseValue'] = joined_select.apply(assign_numbers, axis=1)\n"
     ]
    }
   ],
   "source": [
    "#  handle the reverse coding\n",
    "\n",
    "def assign_numbers(row):\n",
    "    #1\n",
    "    if row['value'] == 'Strongly Disagree' and row['Needs Reverse Coding?'] == 'No':\n",
    "        return 1\n",
    "    elif row['value'] == 'Strongly Disagree' and row['Needs Reverse Coding?'] == 'Yes':\n",
    "        return 5\n",
    "    elif row['value'] == 'Strongly Disagree' and row['Needs Reverse Coding?'] == None:\n",
    "        return 1\n",
    "\n",
    "    #2    \n",
    "    elif row['value'] == 'Somewhat Disagree' and   row['Needs Reverse Coding?'] == 'No':\n",
    "        return 2\n",
    "    elif row['value'] == 'Somewhat Disagree' and row['Needs Reverse Coding?'] == 'Yes':\n",
    "        return 4\n",
    "    elif row['value'] == 'Somewhat Disagree' and   row['Needs Reverse Coding?'] == None:\n",
    "        return 2\n",
    "\n",
    "    #3\n",
    "    elif row['value'] == 'Neither Agree nor Disagree':\n",
    "        return 3\n",
    "\n",
    "    #4\n",
    "    elif row['value'] == 'Somewhat Agree' and row['Needs Reverse Coding?'] == 'No':\n",
    "        return 4\n",
    "    elif row['value'] == 'Somewhat Agree' and row['Needs Reverse Coding?'] == 'Yes':\n",
    "        return 2\n",
    "    elif row['value'] == 'Somewhat Agree' and row['Needs Reverse Coding?'] == None:\n",
    "        return 4\n",
    "\n",
    "    #5\n",
    "    elif row['value'] == 'Strongly Agree' and row['Needs Reverse Coding?'] == 'No':\n",
    "        return 5\n",
    "    elif row['value'] == 'Strongly Agree' and row['Needs Reverse Coding?'] == 'Yes' :\n",
    "        return 1\n",
    "    elif row['value'] == 'Strongly Agree' and row['Needs Reverse Coding?'] == None:\n",
    "        return 5\n",
    "\n",
    "\n",
    "\n",
    "\n",
    "\n",
    "\n",
    "joined_select['TempReverseValue'] = joined_select.apply(assign_numbers, axis=1)\n",
    "print(joined_select)"
   ]
  },
  {
   "cell_type": "code",
   "execution_count": 133,
   "id": "788aae0c-6288-4638-880f-15dea95d2367",
   "metadata": {},
   "outputs": [
    {
     "name": "stdout",
     "output_type": "stream",
     "text": [
      "        id variable                       value Needs Reverse Coding?  \\\n",
      "0        1       F1              Somewhat Agree                    No   \n",
      "1        2       F1              Somewhat Agree                    No   \n",
      "2        3       F1              Strongly Agree                    No   \n",
      "3        4       F1              Somewhat Agree                    No   \n",
      "4        5       F1              Strongly Agree                    No   \n",
      "...    ...      ...                         ...                   ...   \n",
      "11611  260     F6.4  Neither Agree nor Disagree                   Yes   \n",
      "11612  261     F6.4                         NaN                   Yes   \n",
      "11613  262     F6.4  Neither Agree nor Disagree                   Yes   \n",
      "11614  263     F6.4           Somewhat Disagree                   Yes   \n",
      "11615  264     F6.4  Neither Agree nor Disagree                   Yes   \n",
      "\n",
      "       TempReverseValue  TempCoded  \n",
      "0                   4.0        4.0  \n",
      "1                   4.0        4.0  \n",
      "2                   5.0        5.0  \n",
      "3                   4.0        4.0  \n",
      "4                   5.0        5.0  \n",
      "...                 ...        ...  \n",
      "11611               3.0        3.0  \n",
      "11612               NaN        NaN  \n",
      "11613               3.0        3.0  \n",
      "11614               4.0        2.0  \n",
      "11615               3.0        3.0  \n",
      "\n",
      "[11616 rows x 6 columns]\n"
     ]
    },
    {
     "name": "stderr",
     "output_type": "stream",
     "text": [
      "/tmp/ipykernel_3522/1312808912.py:23: SettingWithCopyWarning: \n",
      "A value is trying to be set on a copy of a slice from a DataFrame.\n",
      "Try using .loc[row_indexer,col_indexer] = value instead\n",
      "\n",
      "See the caveats in the documentation: https://pandas.pydata.org/pandas-docs/stable/user_guide/indexing.html#returning-a-view-versus-a-copy\n",
      "  joined_select['TempCoded'] = joined_select.apply(assign_numbers, axis=1)\n"
     ]
    }
   ],
   "source": [
    "def assign_numbers(row):# yes i did make the temp unreversed column here after I already did the version that included the reversals XD\n",
    "     #trying to keep you on your tows ;)\n",
    "    #1\n",
    "    if row['value'] == 'Strongly Disagree':\n",
    "        return 1\n",
    "\n",
    "    #2    \n",
    "    elif row['value'] == 'Somewhat Disagree':\n",
    "        return 2\n",
    "\n",
    "    #3\n",
    "    elif row['value'] == 'Neither Agree nor Disagree':\n",
    "        return 3\n",
    "\n",
    "    #4\n",
    "    elif row['value'] == 'Somewhat Agree':\n",
    "        return 4\n",
    "\n",
    "    #5\n",
    "    elif row['value'] == 'Strongly Agree':\n",
    "        return 5\n",
    "\n",
    "joined_select['TempCoded'] = joined_select.apply(assign_numbers, axis=1)\n",
    "print(joined_select)"
   ]
  },
  {
   "cell_type": "code",
   "execution_count": 140,
   "id": "e101c365-71fd-4bf8-b07a-e30874419019",
   "metadata": {},
   "outputs": [
    {
     "name": "stdout",
     "output_type": "stream",
     "text": [
      "        id variable                       value Needs Reverse Coding?  \\\n",
      "0        1       F1              Somewhat Agree                    No   \n",
      "1        2       F1              Somewhat Agree                    No   \n",
      "2        3       F1              Strongly Agree                    No   \n",
      "3        4       F1              Somewhat Agree                    No   \n",
      "4        5       F1              Strongly Agree                    No   \n",
      "...    ...      ...                         ...                   ...   \n",
      "11611  260     F6.4  Neither Agree nor Disagree                   Yes   \n",
      "11612  261     F6.4                         NaN                   Yes   \n",
      "11613  262     F6.4  Neither Agree nor Disagree                   Yes   \n",
      "11614  263     F6.4           Somewhat Disagree                   Yes   \n",
      "11615  264     F6.4  Neither Agree nor Disagree                   Yes   \n",
      "\n",
      "       TempReverseValue  TempCoded  recoded_value  \n",
      "0                   4.0        4.0            4.0  \n",
      "1                   4.0        4.0            4.0  \n",
      "2                   5.0        5.0            5.0  \n",
      "3                   4.0        4.0            4.0  \n",
      "4                   5.0        5.0            5.0  \n",
      "...                 ...        ...            ...  \n",
      "11611               3.0        3.0            3.0  \n",
      "11612               NaN        NaN            NaN  \n",
      "11613               3.0        3.0            3.0  \n",
      "11614               4.0        2.0            4.0  \n",
      "11615               3.0        3.0            3.0  \n",
      "\n",
      "[11616 rows x 7 columns]\n"
     ]
    },
    {
     "name": "stderr",
     "output_type": "stream",
     "text": [
      "/tmp/ipykernel_3522/3337333891.py:2: SettingWithCopyWarning: \n",
      "A value is trying to be set on a copy of a slice from a DataFrame.\n",
      "Try using .loc[row_indexer,col_indexer] = value instead\n",
      "\n",
      "See the caveats in the documentation: https://pandas.pydata.org/pandas-docs/stable/user_guide/indexing.html#returning-a-view-versus-a-copy\n",
      "  joined_select['recoded_value'] = joined_select['TempReverseValue']\n"
     ]
    }
   ],
   "source": [
    "#I've already used my logic above,  so decided for part E i'd just create the value.\n",
    "joined_select['recoded_value'] = joined_select['TempReverseValue']\n",
    "print(joined_select)\n"
   ]
  },
  {
   "cell_type": "code",
   "execution_count": 183,
   "id": "a653dc18-02ce-49b4-8030-ad4a5cecbb9c",
   "metadata": {},
   "outputs": [],
   "source": [
    "# recode for question types and select.\n",
    "joined_select['question_type'] = joined_select['variable'].str.slice(0,2)\n",
    "\n",
    "joined_pre_final = joined_select [['id' , 'question_type','recoded_value' ]]\n"
   ]
  },
  {
   "cell_type": "code",
   "execution_count": 209,
   "id": "efc55571-1be6-488b-aa09-9827f6cd48bf",
   "metadata": {
    "scrolled": true
   },
   "outputs": [],
   "source": [
    "#conduct aggregation\n",
    "\n",
    "grouped = joined_pre_final.groupby([\"question_type\", \"id\"])[\"recoded_value\"].sum().reset_index(name=\"total_value\")\n"
   ]
  },
  {
   "cell_type": "code",
   "execution_count": 210,
   "id": "b43c66a0-a5e9-4967-9c5e-328815c64ad5",
   "metadata": {},
   "outputs": [
    {
     "name": "stdout",
     "output_type": "stream",
     "text": [
      "     question_type   id  total_value\n",
      "0               F1    1         31.0\n",
      "1               F1    2         31.0\n",
      "2               F1    3         36.0\n",
      "3               F1    4         32.0\n",
      "4               F1    5         37.0\n",
      "...            ...  ...          ...\n",
      "1579            F6  260         22.0\n",
      "1580            F6  261         15.0\n",
      "1581            F6  262         19.0\n",
      "1582            F6  263         21.0\n",
      "1583            F6  264         17.0\n",
      "\n",
      "[1584 rows x 3 columns]\n"
     ]
    }
   ],
   "source": [
    "print(grouped)\n"
   ]
  },
  {
   "cell_type": "code",
   "execution_count": 211,
   "id": "abb30e46-ef1e-4f4f-89aa-ca5722d3a9f0",
   "metadata": {},
   "outputs": [
    {
     "name": "stdout",
     "output_type": "stream",
     "text": [
      "question_type    F1    F2    F3    F4    F5    F6\n",
      "id                                               \n",
      "1              31.0  48.0  20.0  17.0  28.0  18.0\n",
      "2              31.0  47.0  19.0  17.0  27.0  20.0\n",
      "3              36.0  46.0  19.0  18.0  32.0  17.0\n",
      "4              32.0  54.0  12.0  15.0  30.0  16.0\n",
      "5              37.0  47.0  22.0  19.0  36.0  19.0\n",
      "..              ...   ...   ...   ...   ...   ...\n",
      "260            32.0  50.0  22.0  18.0  34.0  22.0\n",
      "261            31.0  48.0  24.0  19.0  28.0  15.0\n",
      "262            30.0  47.0  20.0  23.0  33.0  19.0\n",
      "263            38.0  50.0  20.0  19.0  31.0  21.0\n",
      "264            33.0  53.0  16.0  21.0  33.0  17.0\n",
      "\n",
      "[264 rows x 6 columns]\n"
     ]
    }
   ],
   "source": [
    "# final pivot long.\n",
    "\n",
    "# Pivot the DataFrame\n",
    "pivoted_finale = grouped.pivot(\n",
    "    index=\"id\",\n",
    "    columns = \"question_type\",\n",
    "    values=\"total_value\"\n",
    ")\n",
    "\n",
    "print(pivoted_finale)\n"
   ]
  },
  {
   "cell_type": "code",
   "execution_count": 214,
   "id": "3edcb19d-913e-42e8-969f-8ab77262ab37",
   "metadata": {},
   "outputs": [],
   "source": [
    "pivoted_finale.to_csv('data/health_survey_summary.csv',index = False)"
   ]
  }
 ],
 "metadata": {
  "kernelspec": {
   "display_name": "Python 3 (ipykernel)",
   "language": "python",
   "name": "python3"
  },
  "language_info": {
   "codemirror_mode": {
    "name": "ipython",
    "version": 3
   },
   "file_extension": ".py",
   "mimetype": "text/x-python",
   "name": "python",
   "nbconvert_exporter": "python",
   "pygments_lexer": "ipython3",
   "version": "3.12.2"
  }
 },
 "nbformat": 4,
 "nbformat_minor": 5
}
