{
 "cells": [
  {
   "cell_type": "code",
   "execution_count": 28,
   "id": "35ba4434-6f56-4008-b388-dbb9a1d2be6a",
   "metadata": {},
   "outputs": [],
   "source": [
    "import polars as pl\n",
    "import pandas as pd\n",
    "import os  as os"
   ]
  },
  {
   "cell_type": "code",
   "execution_count": null,
   "id": "d7f918f8-4db1-4f1c-b251-16280e6b2053",
   "metadata": {},
   "outputs": [],
   "source": [
    "# Why use relative addresses?\n",
    "\n",
    "In this notebook, we will illustrate \n",
    "\n",
    "1. That relative addresses for loading data files works, but\n",
    "2. Using absolute addresses for loading data files *will not*."
   ]
  },
  {
   "cell_type": "code",
   "execution_count": 42,
   "id": "7c267d6f-ed06-4f88-ac8b-86e566b16e9e",
   "metadata": {},
   "outputs": [],
   "source": [
    "\n",
    "# import data \n",
    "\n",
    "rv = pd.read_csv('data/ReverseCodingItems.csv')\n",
    "hd = pd.read_csv('data/health_survey.csv')"
   ]
  },
  {
   "cell_type": "code",
   "execution_count": 65,
   "id": "40f8ef58-97d4-452c-9d02-4e0d0b1e50b7",
   "metadata": {},
   "outputs": [
    {
     "name": "stdout",
     "output_type": "stream",
     "text": [
      "    id variable                       value\n",
      "0    1       F1              Somewhat Agree\n",
      "1    2       F1              Somewhat Agree\n",
      "2    3       F1              Strongly Agree\n",
      "3    4       F1              Somewhat Agree\n",
      "4    5       F1              Strongly Agree\n",
      "5    6       F1              Strongly Agree\n",
      "6    7       F1              Strongly Agree\n",
      "7    8       F1              Strongly Agree\n",
      "8    9       F1              Strongly Agree\n",
      "9   10       F1              Strongly Agree\n",
      "10  11       F1              Somewhat Agree\n",
      "11  12       F1              Strongly Agree\n",
      "12  13       F1              Somewhat Agree\n",
      "13  14       F1              Somewhat Agree\n",
      "14  15       F1              Somewhat Agree\n",
      "15  16       F1  Neither Agree nor Disagree\n",
      "16  17       F1              Somewhat Agree\n",
      "17  18       F1              Somewhat Agree\n",
      "18  19       F1              Somewhat Agree\n",
      "19  20       F1  Neither Agree nor Disagree\n"
     ]
    }
   ],
   "source": [
    "# do the pivot\n",
    "\n",
    "# Melt the DataFrame\n",
    "hd_stack = hd.melt(id_vars=[\"id\"], value_vars=['F1',\t'F1.1',\t'F1.2',\t'F1.3',\t'F1.4',\t'F1.5',\t'F1.6',\t'F1.7',\t'F2',\t'F2.1',\t'F2.10',\t'F2.11',\t'F2.2',\t'F2.3',\t'F2.4',\t'F2.5',\t'F2.6',\t'F2.7',\t'F2.8',\t'F2.9',\t'F3',\t'F3.1',\t'F3.2',\t'F3.3',\t'F3.4',\t'F3.5',\t'F4',\t'F4.1',\t'F4.2',\t'F4.3',\t'F4.4',\t'F5',\t'F5.1',\t'F5.2',\t'F5.3',\t'F5.4',\t'F5.5',\t'F5.6',\t'F5.7',\t'F6',\t'F6.1',\t'F6.2',\t'F6.3',\t'F6.4'\n",
    "])\n",
    "print(hd_stack.head( 20))"
   ]
  },
  {
   "cell_type": "code",
   "execution_count": 72,
   "id": "11b46a16-a972-42bb-9eaf-3a230fc27aea",
   "metadata": {},
   "outputs": [
    {
     "name": "stdout",
     "output_type": "stream",
     "text": [
      "   id variable           value Needs Reverse Coding?\n",
      "0   1       F1  Somewhat Agree                    No\n",
      "1   2       F1  Somewhat Agree                    No\n",
      "2   3       F1  Strongly Agree                    No\n",
      "3   4       F1  Somewhat Agree                    No\n",
      "4   5       F1  Strongly Agree                    No\n",
      "5   6       F1  Strongly Agree                    No\n",
      "6   7       F1  Strongly Agree                    No\n",
      "7   8       F1  Strongly Agree                    No\n",
      "8   9       F1  Strongly Agree                    No\n",
      "9  10       F1  Strongly Agree                    No\n"
     ]
    }
   ],
   "source": [
    "# join in the reverse table. using one to many join.\n",
    "\n",
    "inner_joined_df = pd.merge(hd_stack, rv, how='inner', left_on ='variable',right_on = 'Column Name')\n",
    "\n",
    "#do a select to only grab the columns we need\n",
    "\n",
    "joined_select = inner_joined_df[['id', 'variable','value','Needs Reverse Coding?' ]]\n",
    "\n",
    "#test = joined_select[joined_select['variable'] == 'F5'] #decided to do a test to ensure that the reverse coding came in right.\n",
    "\n",
    "\n",
    "print(joined_select.head(10))\n"
   ]
  },
  {
   "cell_type": "code",
   "execution_count": 71,
   "id": "b9208599-0e6e-4954-b584-8bd68c3c099c",
   "metadata": {},
   "outputs": [],
   "source": [
    "#  handle the reverse coding\n",
    "\n",
    "    df = pd.DataFrame({'age': [15, 22, 18, 30, 16]})\n",
    "\n",
    "    def assign numbers(row):\n",
    "        if row['value'] == ':\n",
    "            return 'Minor'\n",
    "        elif row['age'] >= 18 and row['age'] < 65:\n",
    "            return 'Adult'\n",
    "        else:\n",
    "            return 'Senior'\n",
    "\n",
    "    df['age_group'] = df.apply(categorize_age, axis=1)\n",
    "    print(df)"
   ]
  }
 ],
 "metadata": {
  "kernelspec": {
   "display_name": "Python 3 (ipykernel)",
   "language": "python",
   "name": "python3"
  },
  "language_info": {
   "codemirror_mode": {
    "name": "ipython",
    "version": 3
   },
   "file_extension": ".py",
   "mimetype": "text/x-python",
   "name": "python",
   "nbconvert_exporter": "python",
   "pygments_lexer": "ipython3",
   "version": "3.12.2"
  }
 },
 "nbformat": 4,
 "nbformat_minor": 5
}
